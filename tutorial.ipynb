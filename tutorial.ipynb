{
 "cells": [
  {
   "cell_type": "code",
   "execution_count": 1,
   "metadata": {},
   "outputs": [
    {
     "name": "stdout",
     "output_type": "stream",
     "text": [
      "mkdir: exported: File exists\n",
      "mkdir: exported/gpt2_model/: File exists\n"
     ]
    }
   ],
   "source": [
    "#build some directories required\n",
    "!mkdir exported\n",
    "!mkdir exported/gpt2_model/"
   ]
  },
  {
   "cell_type": "code",
   "execution_count": 2,
   "metadata": {},
   "outputs": [
    {
     "name": "stderr",
     "output_type": "stream",
     "text": [
      "/Users/saideeptiku/.miniconda3/envs/hf/lib/python3.10/site-packages/tqdm/auto.py:21: TqdmWarning: IProgress not found. Please update jupyter and ipywidgets. See https://ipywidgets.readthedocs.io/en/stable/user_install.html\n",
      "  from .autonotebook import tqdm as notebook_tqdm\n"
     ]
    }
   ],
   "source": [
    "# https://huggingface.co/learn/nlp-course/en/chapter7/6\n",
    "# data loading and prep\n",
    "# load dataset from a file and split into train and test\n",
    "\n",
    "from datasets import load_dataset\n",
    "\n",
    "train_ds, test_ds = load_dataset(    \n",
    "    \"text\", # type of data\n",
    "    data_files={\n",
    "        \"this\": [\"dummy_data/5000_oscar.eo.txt\"], # provide keyword helps split data later\n",
    "    },\n",
    "    split=[\"this[:80%]\", \"this[-20%:]\"] # first 80% is train; last 20% test\n",
    ")"
   ]
  },
  {
   "cell_type": "code",
   "execution_count": 3,
   "metadata": {},
   "outputs": [
    {
     "name": "stdout",
     "output_type": "stream",
     "text": [
      "\n",
      "\n",
      "\n"
     ]
    },
    {
     "name": "stderr",
     "output_type": "stream",
     "text": [
      "/Users/saideeptiku/.miniconda3/envs/hf/lib/python3.10/site-packages/transformers/tokenization_utils_base.py:1601: FutureWarning: `clean_up_tokenization_spaces` was not set. It will be set to `True` by default. This behavior will be depracted in transformers v4.45, and will be then set to `False` by default. For more details check this issue: https://github.com/huggingface/transformers/issues/31884\n",
      "  warnings.warn(\n"
     ]
    },
    {
     "data": {
      "text/plain": [
       "('exported/gpt2_model/tokenizer/tokenizer_config.json',\n",
       " 'exported/gpt2_model/tokenizer/special_tokens_map.json',\n",
       " 'exported/gpt2_model/tokenizer/vocab.json',\n",
       " 'exported/gpt2_model/tokenizer/merges.txt',\n",
       " 'exported/gpt2_model/tokenizer/added_tokens.json',\n",
       " 'exported/gpt2_model/tokenizer/tokenizer.json')"
      ]
     },
     "execution_count": 3,
     "metadata": {},
     "output_type": "execute_result"
    }
   ],
   "source": [
    "# https://github.com/huggingface/notebooks/blob/main/examples/tokenizer_training.ipynb\n",
    "# train a new tokenizer\n",
    "from transformers import AutoTokenizer, LlamaTokenizerFast\n",
    "\n",
    "# function/generator to produce batches of data\n",
    "from dataclasses import dataclass # i like to give type hints\n",
    "def batch_iterator(dataset: dataclass, batch_size: int, dtype=\"text\"):\n",
    "    # iter over each row of the dataset\n",
    "    # imagine a file with many sentences\n",
    "    # and produce a sub-sentence of a predefined length\n",
    "    for i in range(0, len(dataset), batch_size):\n",
    "        yield dataset[i : i + batch_size][dtype]\n",
    "\n",
    "# train a new tokenizer using the previous one with \n",
    "tokenizer = AutoTokenizer.from_pretrained(\"gpt2\").train_new_from_iterator(\n",
    "    batch_iterator(train_ds, 10), \n",
    "    vocab_size=25000\n",
    "    )\n",
    "\n",
    "# save the tokenizer files\n",
    "# also saves vocab; yes idk what that actually is \n",
    "tokenizer.save_pretrained(\"exported/gpt2_model/tokenizer/\")"
   ]
  },
  {
   "cell_type": "code",
   "execution_count": 4,
   "metadata": {},
   "outputs": [
    {
     "name": "stdout",
     "output_type": "stream",
     "text": [
      "GPT-2 size: 87.2M parameters\n"
     ]
    }
   ],
   "source": [
    "# this needs to be fixed \n",
    "# context length\n",
    "CTX_LEN = 32\n",
    "\n",
    "# time to build the model\n",
    "# https://huggingface.co/learn/nlp-course/en/chapter7/6\n",
    "from transformers import GPT2LMHeadModel, AutoConfig\n",
    "\n",
    "config = AutoConfig.from_pretrained(\n",
    "    \"gpt2\",\n",
    "    vocab_size=len(tokenizer),\n",
    "    n_ctx=CTX_LEN,\n",
    "    bos_token_id=tokenizer.bos_token_id,\n",
    "    eos_token_id=tokenizer.eos_token_id,\n",
    ")\n",
    "\n",
    "model = GPT2LMHeadModel(config)\n",
    "model_size = sum(t.numel() for t in model.parameters())\n",
    "print(f\"GPT-2 size: {model_size/1000**2:.1f}M parameters\")"
   ]
  },
  {
   "cell_type": "code",
   "execution_count": 5,
   "metadata": {},
   "outputs": [],
   "source": [
    "from transformers import DataCollatorForLanguageModeling\n",
    "# set padding token same as end of sentence token\n",
    "tokenizer.pad_token = tokenizer.eos_token\n",
    "# data collator helps add padding to sentences with length longer than ctx_len\n",
    "data_collator = DataCollatorForLanguageModeling(tokenizer, mlm=False)"
   ]
  },
  {
   "cell_type": "code",
   "execution_count": 6,
   "metadata": {},
   "outputs": [
    {
     "name": "stderr",
     "output_type": "stream",
     "text": [
      "Map: 100%|██████████| 57/57 [00:00<00:00, 8409.85 examples/s]\n"
     ]
    }
   ],
   "source": [
    "def tokenize(element: dataclass, context_length: int = CTX_LEN, dtype=\"text\"):\n",
    "    outputs = tokenizer(\n",
    "        element[dtype],\n",
    "        truncation=True,\n",
    "        max_length=context_length,\n",
    "        return_overflowing_tokens=True,\n",
    "        return_length=True,\n",
    "    )\n",
    "    input_batch = []\n",
    "    # note that we asked for length to be returned\n",
    "    for length, input_ids in zip(outputs[\"length\"], outputs[\"input_ids\"]):\n",
    "        if length == context_length:\n",
    "            input_batch.append(input_ids)\n",
    "    return {\"input_ids\": input_batch}\n",
    "\n",
    "# tokenize using map function; applies labels to data\n",
    "tkn_train = train_ds.map(tokenize, batched=True, remove_columns=train_ds.column_names)\n",
    "tkn_test = test_ds.map(tokenize, batched=True, remove_columns=test_ds.column_names)"
   ]
  },
  {
   "cell_type": "code",
   "execution_count": 7,
   "metadata": {},
   "outputs": [
    {
     "name": "stderr",
     "output_type": "stream",
     "text": [
      "/Users/saideeptiku/.miniconda3/envs/hf/lib/python3.10/site-packages/transformers/training_args.py:1525: FutureWarning: `evaluation_strategy` is deprecated and will be removed in version 4.46 of 🤗 Transformers. Use `eval_strategy` instead\n",
      "  warnings.warn(\n",
      "100%|██████████| 100/100 [00:17<00:00,  5.63it/s]"
     ]
    },
    {
     "name": "stdout",
     "output_type": "stream",
     "text": [
      "{'train_runtime': 17.7711, 'train_samples_per_second': 67.525, 'train_steps_per_second': 5.627, 'train_loss': 0.2638910865783691, 'epoch': 100.0}\n"
     ]
    },
    {
     "name": "stderr",
     "output_type": "stream",
     "text": [
      "\n"
     ]
    },
    {
     "data": {
      "text/plain": [
       "TrainOutput(global_step=100, training_loss=0.2638910865783691, metrics={'train_runtime': 17.7711, 'train_samples_per_second': 67.525, 'train_steps_per_second': 5.627, 'total_flos': 19596902400000.0, 'train_loss': 0.2638910865783691, 'epoch': 100.0})"
      ]
     },
     "execution_count": 7,
     "metadata": {},
     "output_type": "execute_result"
    }
   ],
   "source": [
    "from transformers import Trainer, TrainingArguments\n",
    "args = TrainingArguments(\n",
    "    output_dir=\"exported/gpt2_model/training_arguments\",\n",
    "    per_device_train_batch_size=32,\n",
    "    per_device_eval_batch_size=32,\n",
    "    evaluation_strategy=\"steps\",\n",
    "    eval_steps=5_000,\n",
    "    logging_steps=5_000,\n",
    "    gradient_accumulation_steps=8,\n",
    "    num_train_epochs=100,\n",
    "    weight_decay=0.1,\n",
    "    warmup_steps=1_000,\n",
    "    lr_scheduler_type=\"cosine\",\n",
    "    learning_rate=5e-4,\n",
    "    save_steps=5_000,\n",
    "    # fp16=False, # set to true if using GPU; restart kernel to take effect\n",
    "    push_to_hub=False,\n",
    "    )\n",
    "\n",
    "trainer = Trainer(\n",
    "    model=model,\n",
    "    tokenizer=tokenizer,\n",
    "    args=args,\n",
    "    data_collator=data_collator,\n",
    "    train_dataset=tkn_train,\n",
    "    eval_dataset=tkn_test,\n",
    ")\n",
    "\n",
    "# execute the trainer\n",
    "trainer.train()"
   ]
  },
  {
   "cell_type": "code",
   "execution_count": 8,
   "metadata": {},
   "outputs": [],
   "source": [
    "# save the model\n",
    "model.save_pretrained(\"exported/gpt2_model/model\")"
   ]
  },
  {
   "cell_type": "code",
   "execution_count": 9,
   "metadata": {},
   "outputs": [],
   "source": [
    "import torch\n",
    "from transformers import pipeline\n",
    "\n",
    "# which device to use\n",
    "device = torch.device(\"cuda\") if torch.cuda.is_available() else torch.device(\"cpu\")\n",
    "# load model and tokenizer\n",
    "from transformers import AutoModelForCausalLM, AutoTokenizer\n",
    "\n",
    "infer_model = AutoModelForCausalLM.from_pretrained(\"exported/gpt2_model/model\")\n",
    "infer_tokenizer = AutoTokenizer.from_pretrained(\"exported/gpt2_model/tokenizer/\")\n",
    "\n",
    "pipe = pipeline(\n",
    "    \"text-generation\", # mode of operation\n",
    "    model=infer_model,\n",
    "    tokenizer=infer_tokenizer,\n",
    "    device=device,\n",
    "    \n",
    "    )"
   ]
  },
  {
   "cell_type": "code",
   "execution_count": 11,
   "metadata": {},
   "outputs": [
    {
     "name": "stderr",
     "output_type": "stream",
     "text": [
      "Setting `pad_token_id` to `eos_token_id`:0 for open-end generation.\n"
     ]
    },
    {
     "name": "stdout",
     "output_type": "stream",
     "text": [
      "from push_to_hub(self, repo_id: str, use_temp_dir: Optional[bool] = None, commit_message_message[bool] = None, str, safe_ --------------------------------: str = None,\n"
     ]
    }
   ],
   "source": [
    "print(pipe(\"from\", num_return_sequences=1)[0][\"generated_text\"])"
   ]
  },
  {
   "cell_type": "code",
   "execution_count": 27,
   "metadata": {},
   "outputs": [
    {
     "name": "stderr",
     "output_type": "stream",
     "text": [
      "Setting `pad_token_id` to `eos_token_id`:0 for open-end generation.\n"
     ]
    },
    {
     "data": {
      "text/plain": [
       "'hello_'"
      ]
     },
     "execution_count": 27,
     "metadata": {},
     "output_type": "execute_result"
    }
   ],
   "source": [
    "# infer_tokenizer.decode(\n",
    "output = infer_model.generate(\n",
    "        **infer_tokenizer([\"hello\"],return_tensors=\"pt\"),\n",
    "        max_new_tokens=1, \n",
    "        # return_dict_in_generate=True, output_scores=True\n",
    "    )\n",
    "# )\n",
    "output[0]\n",
    "infer_tokenizer.decode(output[0])"
   ]
  }
 ],
 "metadata": {
  "kernelspec": {
   "display_name": "hf",
   "language": "python",
   "name": "python3"
  },
  "language_info": {
   "codemirror_mode": {
    "name": "ipython",
    "version": 3
   },
   "file_extension": ".py",
   "mimetype": "text/x-python",
   "name": "python",
   "nbconvert_exporter": "python",
   "pygments_lexer": "ipython3",
   "version": "3.10.14"
  }
 },
 "nbformat": 4,
 "nbformat_minor": 2
}
